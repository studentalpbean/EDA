{
  "nbformat": 4,
  "nbformat_minor": 0,
  "metadata": {
    "colab": {
      "provenance": []
    },
    "kernelspec": {
      "name": "python3",
      "display_name": "Python 3"
    },
    "language_info": {
      "name": "python"
    }
  },
  "cells": [
    {
      "cell_type": "markdown",
      "source": [
        "# **Final Project Stage 1_Homework EDA - Group 5 (DS Batch 50)**\n",
        "\n",
        "*   Veraldo Efraim\n",
        "*   Novisna Lintang Negari\n",
        "*   Alexander Panggabean\n",
        "*   Kevin William Markus Simbolon\n",
        "*   Adila"
      ],
      "metadata": {
        "id": "D7GVI6hRu8gu"
      }
    },
    {
      "cell_type": "code",
      "execution_count": null,
      "metadata": {
        "id": "FhwKZeqJZBUf",
        "colab": {
          "base_uri": "https://localhost:8080/"
        },
        "outputId": "a226e2ca-ac2d-45d3-bdb0-c80b6b5fb29e"
      },
      "outputs": [
        {
          "output_type": "stream",
          "name": "stdout",
          "text": [
            "Data telah digabungkan dan disimpan dalam file 'combined_weekend_data.csv'.\n"
          ]
        }
      ],
      "source": [
        "import pandas as pd\n",
        "\n",
        "# File paths\n",
        "file_paths = [\n",
        "    'berlin_weekends.csv',\n",
        "    'amsterdam_weekends.csv',\n",
        "    'athens_weekends.csv',\n",
        "    'london_weekends.csv',\n",
        "    'paris_weekends.csv',\n",
        "    'rome_weekends.csv',\n",
        "    'vienna_weekends.csv',\n",
        "    'barcelona_weekends.csv',\n",
        "    'budapest_weekends.csv',\n",
        "    'lisbon_weekends.csv'\n",
        "]\n",
        "\n",
        "# City names corresponding to the files\n",
        "cities = [\n",
        "    'Berlin',\n",
        "    'Amsterdam',\n",
        "    'Athens',\n",
        "    'London',\n",
        "    'Paris',\n",
        "    'Rome',\n",
        "    'Vienna',\n",
        "    'Barcelona',\n",
        "    'Budapest',\n",
        "    'Lisbon'\n",
        "]\n",
        "\n",
        "# Read and combine all files\n",
        "dataframes = []\n",
        "for file, city in zip(file_paths, cities):\n",
        "    df = pd.read_csv(file)\n",
        "    df['City'] = city  # Add city column\n",
        "    dataframes.append(df)\n",
        "\n",
        "# Combine all dataframes\n",
        "combined_data = pd.concat(dataframes, ignore_index=True)\n",
        "\n",
        "# Save the combined data to a CSV file\n",
        "combined_data.to_csv('combined_weekend_data.csv', index=False)\n",
        "\n",
        "print(\"Data telah digabungkan dan disimpan dalam file 'combined_weekend_data.csv'.\")\n"
      ]
    },
    {
      "cell_type": "code",
      "source": [
        "import pandas as pd\n",
        "\n",
        "# File paths for weekday data\n",
        "weekday_file_paths = [\n",
        "    'berlin_weekdays.csv',\n",
        "    'amsterdam_weekdays.csv',\n",
        "    'athens_weekdays.csv',\n",
        "    'london_weekdays.csv',\n",
        "    'paris_weekdays.csv',\n",
        "    'rome_weekdays.csv',\n",
        "    'vienna_weekdays.csv',\n",
        "    'barcelona_weekdays.csv',\n",
        "    'budapest_weekdays.csv',\n",
        "    'lisbon_weekdays.csv'\n",
        "]\n",
        "\n",
        "# City names corresponding to the weekday files\n",
        "weekday_cities = [\n",
        "    'Berlin',\n",
        "    'Amsterdam',\n",
        "    'Athens',\n",
        "    'London',\n",
        "    'Paris',\n",
        "    'Rome',\n",
        "    'Vienna',\n",
        "    'Barcelona',\n",
        "    'Budapest',\n",
        "    'Lisbon'\n",
        "]\n",
        "\n",
        "# Read and combine all weekday files\n",
        "weekday_dataframes = []\n",
        "for file, city in zip(weekday_file_paths, weekday_cities):\n",
        "    df = pd.read_csv(file)\n",
        "    df['City'] = city  # Add city column\n",
        "    weekday_dataframes.append(df)\n",
        "\n",
        "# Combine all weekday dataframes\n",
        "combined_weekday_data = pd.concat(weekday_dataframes, ignore_index=True)\n",
        "\n",
        "# Save the combined data to a CSV file\n",
        "combined_weekday_data.to_csv('combined_weekday_data.csv', index=False)\n",
        "\n",
        "print(\"Data weekdays telah digabungkan dan disimpan dalam file 'combined_weekday_data.csv'.\")\n"
      ],
      "metadata": {
        "colab": {
          "base_uri": "https://localhost:8080/"
        },
        "id": "VpwhMNcBqwXu",
        "outputId": "be524dd0-af77-4897-9a21-a24741dbd832"
      },
      "execution_count": null,
      "outputs": [
        {
          "output_type": "stream",
          "name": "stdout",
          "text": [
            "Data weekdays telah digabungkan dan disimpan dalam file 'combined_weekday_data.csv'.\n"
          ]
        }
      ]
    },
    {
      "cell_type": "code",
      "source": [
        "import pandas as pd\n",
        "\n",
        "# File paths for weekday and weekend combined data\n",
        "weekday_file = 'combined_weekday_data.csv'\n",
        "weekend_file = 'combined_weekend_data.csv'\n",
        "\n",
        "# Read the files\n",
        "weekday_data = pd.read_csv(weekday_file)\n",
        "weekend_data = pd.read_csv(weekend_file)\n",
        "\n",
        "# Add a column to distinguish between weekday and weekend data\n",
        "weekday_data['Day_Type'] = 'Weekday'\n",
        "weekend_data['Day_Type'] = 'Weekend'\n",
        "\n",
        "# Combine the data\n",
        "combined_all_data = pd.concat([weekday_data, weekend_data], ignore_index=True)\n",
        "\n",
        "# Save the combined data to a CSV file\n",
        "combined_all_data.to_csv('combined_all_data.csv', index=False)\n",
        "\n",
        "print(\"Data weekdays dan weekends telah digabungkan dan disimpan dalam file 'combined_all_data.csv'.\")\n"
      ],
      "metadata": {
        "colab": {
          "base_uri": "https://localhost:8080/"
        },
        "id": "-VXbP-0krbMV",
        "outputId": "b629b49c-c5bb-4792-afc6-0faa9d833191"
      },
      "execution_count": null,
      "outputs": [
        {
          "output_type": "stream",
          "name": "stdout",
          "text": [
            "Data weekdays dan weekends telah digabungkan dan disimpan dalam file 'combined_all_data.csv'.\n"
          ]
        }
      ]
    },
    {
      "cell_type": "markdown",
      "source": [
        "# **1. Descriptive Statistics (15 poin)**\n",
        "\n",
        "Gunakan function info dan describe pada dataset final project kalian. Tuliskan hasil observasinya, seperti:\n",
        "\n",
        "A. Apakah ada kolom dengan tipe data kurang sesuai, atau nama kolom dan isinya kurang sesuai?\n",
        "\n",
        "B. Apakah ada kolom yang memiliki nilai kosong? Jika ada, apa saja?\n",
        "\n",
        "C. Apakah ada kolom yang memiliki nilai summary agak aneh? (min/mean/median/max/unique/top/freq)\n",
        "\n",
        "*   Untuk masing-masing jenis observasi, tuliskan juga jika tidak ada masalah misal untuk A: “Semua tipe data sudah sesuai”"
      ],
      "metadata": {
        "id": "9-unUosrsUh4"
      }
    },
    {
      "cell_type": "code",
      "source": [
        "# Soal 1a"
      ],
      "metadata": {
        "id": "ylKbLiIusti9"
      },
      "execution_count": null,
      "outputs": []
    },
    {
      "cell_type": "markdown",
      "source": [],
      "metadata": {
        "id": "VuZfIthPsugE"
      }
    },
    {
      "cell_type": "code",
      "source": [
        "# Soal 1b"
      ],
      "metadata": {
        "id": "DmS926lEtJzx"
      },
      "execution_count": null,
      "outputs": []
    },
    {
      "cell_type": "markdown",
      "source": [],
      "metadata": {
        "id": "TSz4QwJztNsM"
      }
    },
    {
      "cell_type": "code",
      "source": [
        "# Soal 1c"
      ],
      "metadata": {
        "id": "Ni12azzFtOR1"
      },
      "execution_count": null,
      "outputs": []
    },
    {
      "cell_type": "markdown",
      "source": [],
      "metadata": {
        "id": "7Xxb2zCZtQDx"
      }
    },
    {
      "cell_type": "markdown",
      "source": [
        "# **2. Univariate Analysis (25 poin)**\n",
        "\n",
        "Gunakan visualisasi untuk melihat distribusi masing-masing kolom (feature maupun\n",
        "target). Tuliskan hasil observasinya, misalnya jika ada suatu kolom yang distribusinya menarik (misal skewed, bimodal, ada outlier, ada nilai yang mendominasi, kategorinya terlalu banyak, dsb). Jelaskan juga apa yang harus di-follow up saat data pre-processing."
      ],
      "metadata": {
        "id": "3mv6lXjiswbA"
      }
    },
    {
      "cell_type": "code",
      "source": [],
      "metadata": {
        "id": "fL6VkomCtBgp"
      },
      "execution_count": null,
      "outputs": []
    },
    {
      "cell_type": "markdown",
      "source": [],
      "metadata": {
        "id": "8xfAcgn7tUkV"
      }
    },
    {
      "cell_type": "markdown",
      "source": [
        "# **3. Multivariate Analysis (15 poin)**\n",
        "\n",
        "Lakukan multivariate analysis (seperti correlation heatmap dan category plots, sesuai yang diajarkan di kelas). Tuliskan hasil observasinya, seperti:\n",
        "\n",
        "A. Bagaimana korelasi antara masing-masing feature dan label. Kira-kira feature mana saja yang paling relevan dan harus dipertahankan?\n",
        "\n",
        "B. Bagaimana korelasi antar-feature, apakah ada pola yang menarik? Apa yang perlu dilakukan terhadap feature itu?\n",
        "\n",
        "* Tuliskan juga jika memang tidak ada feature yang saling berkorelasi"
      ],
      "metadata": {
        "id": "7eSS8JxUtB3F"
      }
    },
    {
      "cell_type": "code",
      "source": [
        "# Soal 3a"
      ],
      "metadata": {
        "id": "waSYuHg9t9M1"
      },
      "execution_count": null,
      "outputs": []
    },
    {
      "cell_type": "markdown",
      "source": [],
      "metadata": {
        "id": "kk5MwACRt8BR"
      }
    },
    {
      "cell_type": "code",
      "source": [
        "# Soal 3b"
      ],
      "metadata": {
        "id": "gKTCd6nduEWt"
      },
      "execution_count": null,
      "outputs": []
    },
    {
      "cell_type": "markdown",
      "source": [],
      "metadata": {
        "id": "J_fLBJv4uHgB"
      }
    },
    {
      "cell_type": "markdown",
      "source": [
        "# **4. Business Insight (30 poin)**\n",
        "\n",
        "Selain EDA, lakukan juga beberapa analisis dan visualisasi untuk menemukan suatu business insight. Tuliskan minimal 3 insight, dan berdasarkan insight tersebut jelaskan rekomendasinya untuk bisnis."
      ],
      "metadata": {
        "id": "zhtJBzRJuIl0"
      }
    },
    {
      "cell_type": "code",
      "source": [],
      "metadata": {
        "id": "S5BmFb_RuTSE"
      },
      "execution_count": null,
      "outputs": []
    },
    {
      "cell_type": "markdown",
      "source": [],
      "metadata": {
        "id": "Rfnts5O0uTzF"
      }
    },
    {
      "cell_type": "markdown",
      "source": [
        "# **5. Git (15 poin)**\n",
        "\n",
        "Upload project teman-teman di sebuah repository git. Berkolaborasilah di Git jika ada perubahan version dari waktu ke waktu.\n",
        "\n",
        "A. Buat Repository Git\n",
        "\n",
        "B. Upload file notebook atau file pengerjaan lainnya pada repository tersebut\n",
        "Untuk file README, dapat merupakan summary insight yang telah didapatkan dari EDA."
      ],
      "metadata": {
        "id": "_ZzggdXkuVGK"
      }
    },
    {
      "cell_type": "code",
      "source": [],
      "metadata": {
        "id": "xm1ACXCTuo2Z"
      },
      "execution_count": null,
      "outputs": []
    },
    {
      "cell_type": "markdown",
      "source": [],
      "metadata": {
        "id": "cn1z6_eyupJl"
      }
    }
  ]
}